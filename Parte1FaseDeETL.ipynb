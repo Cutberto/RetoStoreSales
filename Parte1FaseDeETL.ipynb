{
  "metadata": {
    "kernelspec": {
      "language": "python",
      "display_name": "Python 3",
      "name": "python3"
    },
    "language_info": {
      "name": "python",
      "version": "3.7.12",
      "mimetype": "text/x-python",
      "codemirror_mode": {
        "name": "ipython",
        "version": 3
      },
      "pygments_lexer": "ipython3",
      "nbconvert_exporter": "python",
      "file_extension": ".py"
    },
    "colab": {
      "name": "notebookdc8e90834b.ipynb",
      "provenance": []
    }
  },
  "nbformat_minor": 0,
  "nbformat": 4,
  "cells": [
    {
      "cell_type": "code",
      "source": [
        "# This Python 3 environment comes with many helpful analytics libraries installed\n",
        "# It is defined by the kaggle/python Docker image: https://github.com/kaggle/docker-python\n",
        "# For example, here's several helpful packages to load\n",
        "\n",
        "import numpy as np # linear algebra\n",
        "import pandas as pd # data processing, CSV file I/O (e.g. pd.read_csv)\n",
        "\n",
        "# Input data files are available in the read-only \"../input/\" directory\n",
        "# For example, running this (by clicking run or pressing Shift+Enter) will list all files under the input directory\n",
        "\n",
        "import os\n",
        "for dirname, _, filenames in os.walk('/kaggle/input'):\n",
        "    for filename in filenames:\n",
        "        print(os.path.join(dirname, filename))\n",
        "\n",
        "# You can write up to 20GB to the current directory (/kaggle/working/) that gets preserved as output when you create a version using \"Save & Run All\" \n",
        "# You can also write temporary files to /kaggle/temp/, but they won't be saved outside of the current session"
      ],
      "metadata": {
        "_uuid": "8f2839f25d086af736a60e9eeb907d3b93b6e0e5",
        "_cell_guid": "b1076dfc-b9ad-4769-8c92-a6c4dae69d19",
        "execution": {
          "iopub.status.busy": "2022-08-25T22:44:42.476297Z",
          "iopub.execute_input": "2022-08-25T22:44:42.476624Z",
          "iopub.status.idle": "2022-08-25T22:44:42.490528Z",
          "shell.execute_reply.started": "2022-08-25T22:44:42.476598Z",
          "shell.execute_reply": "2022-08-25T22:44:42.489083Z"
        },
        "trusted": true,
        "id": "AIsm1sS3NVC4"
      },
      "execution_count": null,
      "outputs": []
    },
    {
      "cell_type": "code",
      "source": [
        "#Import librarys\n",
        "import matplotlib.pyplot as plt\n",
        "import seaborn as sns\n",
        "import plotly.express as px\n",
        "\n",
        "#pandas dataframe config\n",
        "pd.set_option('display.max_columns', None)\n",
        "pd.options.display.float_format = '{:.4f}'.format"
      ],
      "metadata": {
        "execution": {
          "iopub.status.busy": "2022-08-25T22:44:42.505177Z",
          "iopub.execute_input": "2022-08-25T22:44:42.505743Z",
          "iopub.status.idle": "2022-08-25T22:44:42.510996Z",
          "shell.execute_reply.started": "2022-08-25T22:44:42.505711Z",
          "shell.execute_reply": "2022-08-25T22:44:42.509915Z"
        },
        "trusted": true,
        "id": "YIiUeZ3QNVC8"
      },
      "execution_count": null,
      "outputs": []
    },
    {
      "cell_type": "code",
      "source": [
        "DATA_PATH = '../input/store-sales-time-series-forecasting/'"
      ],
      "metadata": {
        "execution": {
          "iopub.status.busy": "2022-08-25T22:44:42.534094Z",
          "iopub.execute_input": "2022-08-25T22:44:42.534679Z",
          "iopub.status.idle": "2022-08-25T22:44:42.538620Z",
          "shell.execute_reply.started": "2022-08-25T22:44:42.534651Z",
          "shell.execute_reply": "2022-08-25T22:44:42.537545Z"
        },
        "trusted": true,
        "id": "melJWZUaNVC8"
      },
      "execution_count": null,
      "outputs": []
    },
    {
      "cell_type": "code",
      "source": [
        "for f in os.listdir(DATA_PATH):\n",
        "    print(f)"
      ],
      "metadata": {
        "execution": {
          "iopub.status.busy": "2022-08-25T22:44:42.556762Z",
          "iopub.execute_input": "2022-08-25T22:44:42.557407Z",
          "iopub.status.idle": "2022-08-25T22:44:42.564433Z",
          "shell.execute_reply.started": "2022-08-25T22:44:42.557368Z",
          "shell.execute_reply": "2022-08-25T22:44:42.562040Z"
        },
        "trusted": true,
        "id": "DcKzTFc5NVC9"
      },
      "execution_count": null,
      "outputs": []
    },
    {
      "cell_type": "code",
      "source": [
        "# At first instance, we import every datasource as a dataframe \n",
        "df_train = pd.read_csv(os.path.join(DATA_PATH, 'train.csv'))\n",
        "df_test = pd.read_csv(os.path.join(DATA_PATH, 'test.csv'))\n",
        "df_stores = pd.read_csv(os.path.join(DATA_PATH, 'stores.csv'))\n",
        "# For the transactions dataset, we sort them by store number and date, to help us visualizing the data chronologically\n",
        "df_transactions = pd.read_csv(os.path.join(DATA_PATH, 'transactions.csv')).sort_values(['store_nbr', 'date'])\n",
        "df_oil = pd.read_csv(os.path.join(DATA_PATH, 'oil.csv'))\n",
        "df_holidays_events = pd.read_csv(os.path.join(DATA_PATH, 'holidays_events.csv'))"
      ],
      "metadata": {
        "execution": {
          "iopub.status.busy": "2022-08-25T22:44:42.598784Z",
          "iopub.execute_input": "2022-08-25T22:44:42.599322Z",
          "iopub.status.idle": "2022-08-25T22:44:44.159690Z",
          "shell.execute_reply.started": "2022-08-25T22:44:42.599288Z",
          "shell.execute_reply": "2022-08-25T22:44:44.157946Z"
        },
        "trusted": true,
        "id": "jGAdIFe-NVC-"
      },
      "execution_count": null,
      "outputs": []
    },
    {
      "cell_type": "code",
      "source": [
        "#For the column date of each dataframe that contains it, we convert te data type to pandas datetime, as the original datetime format is not supported by pd\n",
        "df_train['date'] = pd.to_datetime(df_train['date'])\n",
        "df_test['date'] = pd.to_datetime(df_test['date'])\n",
        "df_transactions['date'] = pd.to_datetime(df_transactions['date'])"
      ],
      "metadata": {
        "execution": {
          "iopub.status.busy": "2022-08-25T22:44:44.161580Z",
          "iopub.execute_input": "2022-08-25T22:44:44.161864Z",
          "iopub.status.idle": "2022-08-25T22:44:44.517385Z",
          "shell.execute_reply.started": "2022-08-25T22:44:44.161825Z",
          "shell.execute_reply": "2022-08-25T22:44:44.515861Z"
        },
        "trusted": true,
        "id": "doikBY_JNVC_"
      },
      "execution_count": null,
      "outputs": []
    },
    {
      "cell_type": "code",
      "source": [
        "sns.heatmap(data=df_train.corr(), vmin=-1, vmax=1, cmap = 'RdBu', annot=True, square = True)"
      ],
      "metadata": {
        "execution": {
          "iopub.status.busy": "2022-08-25T22:44:44.519247Z",
          "iopub.execute_input": "2022-08-25T22:44:44.519558Z",
          "iopub.status.idle": "2022-08-25T22:44:44.885805Z",
          "shell.execute_reply.started": "2022-08-25T22:44:44.519532Z",
          "shell.execute_reply": "2022-08-25T22:44:44.884119Z"
        },
        "trusted": true,
        "id": "hvEslOyHNVDA"
      },
      "execution_count": null,
      "outputs": []
    },
    {
      "cell_type": "code",
      "source": [
        "# We duplicate the train dataframe in order to process it in a different memory address\n",
        "process_train = df_train.copy()"
      ],
      "metadata": {
        "execution": {
          "iopub.status.busy": "2022-08-25T22:44:44.888826Z",
          "iopub.execute_input": "2022-08-25T22:44:44.889175Z",
          "iopub.status.idle": "2022-08-25T22:44:44.922761Z",
          "shell.execute_reply.started": "2022-08-25T22:44:44.889149Z",
          "shell.execute_reply": "2022-08-25T22:44:44.921026Z"
        },
        "trusted": true,
        "id": "aN3vlZQRNVDB"
      },
      "execution_count": null,
      "outputs": []
    },
    {
      "cell_type": "code",
      "source": [
        "# We ensure that the column date has a supported date format. This is just preventive, as we had already converted the datatype of df_train prior to creating this copy\n",
        "process_train['date'] = pd.to_datetime(process_train['date'])\n",
        "#We set the date as the index of the dataframe\n",
        "process_train = process_train.set_index('date')\n",
        "#We drop the column containing the id numbers, as now our id's will be the dates\n",
        "process_train = process_train.drop('id',axis = 1)\n",
        "# We indicate that the columns store number and family will be treated as category information. This helps optimizing the performance\n",
        "process_train[['store_nbr','family']].astype('category') #reduces ram usage\n",
        "process_train"
      ],
      "metadata": {
        "execution": {
          "iopub.status.busy": "2022-08-25T22:44:44.925262Z",
          "iopub.execute_input": "2022-08-25T22:44:44.925705Z",
          "iopub.status.idle": "2022-08-25T22:44:45.421091Z",
          "shell.execute_reply.started": "2022-08-25T22:44:44.925675Z",
          "shell.execute_reply": "2022-08-25T22:44:45.420160Z"
        },
        "trusted": true,
        "id": "DMv8Prx2NVDB"
      },
      "execution_count": null,
      "outputs": []
    },
    {
      "cell_type": "code",
      "source": [
        "# We group the information by family of products, and resample it to a monthly scale\n",
        "month_family = process_train.groupby('family').resample('M').sales.sum() #resample to monthly sales \n",
        "\n",
        "fig, ax = plt.subplots(figsize=(7,7))\n",
        "plt.barh(month_family.groupby('family').sum().sort_values().index,month_family.groupby('family').sum().sort_values())\n",
        "ax.set(title='Total Sales by Product Family')\n",
        "plt.show()"
      ],
      "metadata": {
        "execution": {
          "iopub.status.busy": "2022-08-25T22:44:45.422903Z",
          "iopub.execute_input": "2022-08-25T22:44:45.423345Z",
          "iopub.status.idle": "2022-08-25T22:44:46.222424Z",
          "shell.execute_reply.started": "2022-08-25T22:44:45.423315Z",
          "shell.execute_reply": "2022-08-25T22:44:46.220859Z"
        },
        "trusted": true,
        "id": "S_CyyyhlNVDC"
      },
      "execution_count": null,
      "outputs": []
    },
    {
      "cell_type": "markdown",
      "source": [
        "Transactions"
      ],
      "metadata": {
        "id": "sEzSXUtWNVDC"
      }
    },
    {
      "cell_type": "code",
      "source": [
        "# We create a temporal dataframe were we sum the sales of each store every day\n",
        "df_train_temp = df_train.groupby(['date', 'store_nbr']).sales.sum().reset_index()"
      ],
      "metadata": {
        "execution": {
          "iopub.status.busy": "2022-08-25T22:44:46.224775Z",
          "iopub.execute_input": "2022-08-25T22:44:46.225148Z",
          "iopub.status.idle": "2022-08-25T22:44:46.373099Z",
          "shell.execute_reply.started": "2022-08-25T22:44:46.225121Z",
          "shell.execute_reply": "2022-08-25T22:44:46.372029Z"
        },
        "trusted": true,
        "id": "tiFFqs1XNVDD"
      },
      "execution_count": null,
      "outputs": []
    },
    {
      "cell_type": "code",
      "source": [
        "df_train_temp"
      ],
      "metadata": {
        "execution": {
          "iopub.status.busy": "2022-08-25T22:44:46.374506Z",
          "iopub.execute_input": "2022-08-25T22:44:46.374818Z",
          "iopub.status.idle": "2022-08-25T22:44:46.389638Z",
          "shell.execute_reply.started": "2022-08-25T22:44:46.374792Z",
          "shell.execute_reply": "2022-08-25T22:44:46.388153Z"
        },
        "trusted": true,
        "id": "H3IzDS2HNVDE"
      },
      "execution_count": null,
      "outputs": []
    },
    {
      "cell_type": "code",
      "source": [
        "#Now, we meerge the previous dataframe with our transactions information.\n",
        "df_aux_merge = pd.merge(df_train_temp, df_transactions, how = 'left')"
      ],
      "metadata": {
        "execution": {
          "iopub.status.busy": "2022-08-25T22:44:46.390960Z",
          "iopub.execute_input": "2022-08-25T22:44:46.391272Z",
          "iopub.status.idle": "2022-08-25T22:44:46.422346Z",
          "shell.execute_reply.started": "2022-08-25T22:44:46.391246Z",
          "shell.execute_reply": "2022-08-25T22:44:46.420670Z"
        },
        "trusted": true,
        "id": "8fbXpmLLNVDE"
      },
      "execution_count": null,
      "outputs": []
    },
    {
      "cell_type": "code",
      "source": [
        "sns.heatmap(data=df_aux_merge.corr(), vmin=-1, vmax=1, cmap = 'RdBu', annot=True, square = True)"
      ],
      "metadata": {
        "execution": {
          "iopub.status.busy": "2022-08-25T22:44:46.426773Z",
          "iopub.execute_input": "2022-08-25T22:44:46.427303Z",
          "iopub.status.idle": "2022-08-25T22:44:46.609434Z",
          "shell.execute_reply.started": "2022-08-25T22:44:46.427275Z",
          "shell.execute_reply": "2022-08-25T22:44:46.607648Z"
        },
        "trusted": true,
        "id": "MqzEmZL7NVDE"
      },
      "execution_count": null,
      "outputs": []
    },
    {
      "cell_type": "code",
      "source": [
        "aux_a = df_transactions.copy()\n",
        "aux_a['year'] = aux_a.date.dt.year\n",
        "aux_a['month'] = aux_a.date.dt.month"
      ],
      "metadata": {
        "execution": {
          "iopub.status.busy": "2022-08-25T22:44:46.611163Z",
          "iopub.execute_input": "2022-08-25T22:44:46.611488Z",
          "iopub.status.idle": "2022-08-25T22:44:46.629740Z",
          "shell.execute_reply.started": "2022-08-25T22:44:46.611463Z",
          "shell.execute_reply": "2022-08-25T22:44:46.629007Z"
        },
        "trusted": true,
        "id": "gVBLlzJCNVDF"
      },
      "execution_count": null,
      "outputs": []
    },
    {
      "cell_type": "code",
      "source": [
        "sns.heatmap(data=aux_a.corr(), vmin=-1, vmax=1, cmap = 'RdBu', annot=True, square = True)"
      ],
      "metadata": {
        "execution": {
          "iopub.status.busy": "2022-08-25T22:44:46.631137Z",
          "iopub.execute_input": "2022-08-25T22:44:46.632249Z",
          "iopub.status.idle": "2022-08-25T22:44:46.835068Z",
          "shell.execute_reply.started": "2022-08-25T22:44:46.632190Z",
          "shell.execute_reply": "2022-08-25T22:44:46.833814Z"
        },
        "trusted": true,
        "id": "9SDQcBQ6NVDF"
      },
      "execution_count": null,
      "outputs": []
    },
    {
      "cell_type": "code",
      "source": [
        "pd.date_range(start = '2013-01-01', end = '2017-08-15' ).difference(df_oil.index)"
      ],
      "metadata": {
        "execution": {
          "iopub.status.busy": "2022-08-25T22:44:46.836387Z",
          "iopub.execute_input": "2022-08-25T22:44:46.836915Z",
          "iopub.status.idle": "2022-08-25T22:44:46.845693Z",
          "shell.execute_reply.started": "2022-08-25T22:44:46.836879Z",
          "shell.execute_reply": "2022-08-25T22:44:46.844880Z"
        },
        "trusted": true,
        "id": "i97eqT4JNVDF"
      },
      "execution_count": null,
      "outputs": []
    },
    {
      "cell_type": "code",
      "source": [
        "# We prepare out oil dataset by setting a correct format for date and setting date as the index\n",
        "df_oil['date'] = pd.to_datetime(df_oil['date'])\n",
        "df_oil = df_oil.set_index('date')"
      ],
      "metadata": {
        "execution": {
          "iopub.status.busy": "2022-08-25T22:44:46.846702Z",
          "iopub.execute_input": "2022-08-25T22:44:46.848320Z",
          "iopub.status.idle": "2022-08-25T22:44:46.858411Z",
          "shell.execute_reply.started": "2022-08-25T22:44:46.848213Z",
          "shell.execute_reply": "2022-08-25T22:44:46.857019Z"
        },
        "trusted": true,
        "id": "ECsl2a8GNVDF"
      },
      "execution_count": null,
      "outputs": []
    },
    {
      "cell_type": "code",
      "source": [
        "df_oil = df_oil.resample('1D').sum()\n",
        "df_oil.reset_index()"
      ],
      "metadata": {
        "execution": {
          "iopub.status.busy": "2022-08-25T22:44:46.859976Z",
          "iopub.execute_input": "2022-08-25T22:44:46.860654Z",
          "iopub.status.idle": "2022-08-25T22:44:46.870230Z",
          "shell.execute_reply.started": "2022-08-25T22:44:46.860621Z",
          "shell.execute_reply": "2022-08-25T22:44:46.869110Z"
        },
        "trusted": true,
        "id": "HZhh7wVBNVDG"
      },
      "execution_count": null,
      "outputs": []
    },
    {
      "cell_type": "code",
      "source": [
        "pd.date_range(start = '2013-01-01', end = '2017-08-15' ).difference(df_oil.index)"
      ],
      "metadata": {
        "execution": {
          "iopub.status.busy": "2022-08-25T22:44:46.890393Z",
          "iopub.execute_input": "2022-08-25T22:44:46.890747Z",
          "iopub.status.idle": "2022-08-25T22:44:46.909374Z",
          "shell.execute_reply.started": "2022-08-25T22:44:46.890719Z",
          "shell.execute_reply": "2022-08-25T22:44:46.908192Z"
        },
        "trusted": true,
        "id": "KLqndK48NVDG"
      },
      "execution_count": null,
      "outputs": []
    },
    {
      "cell_type": "code",
      "source": [
        "# Here we replace all NaN values for 0, as we will use this column to compute the interpolated price\n",
        "df_oil['dcoilwtico'] = np.where(df_oil['dcoilwtico']==0, np.nan, df_oil['dcoilwtico'])\n",
        "df_oil['interpolated_price'] = df_oil.dcoilwtico.interpolate()"
      ],
      "metadata": {
        "execution": {
          "iopub.status.busy": "2022-08-25T22:44:46.910606Z",
          "iopub.execute_input": "2022-08-25T22:44:46.911447Z",
          "iopub.status.idle": "2022-08-25T22:44:46.922197Z",
          "shell.execute_reply.started": "2022-08-25T22:44:46.911410Z",
          "shell.execute_reply": "2022-08-25T22:44:46.921099Z"
        },
        "trusted": true,
        "id": "6MHRGdCSNVDH"
      },
      "execution_count": null,
      "outputs": []
    },
    {
      "cell_type": "code",
      "source": [
        "# We drop the column now that we obtained the interpolated price\n",
        "df_oil = df_oil.drop('dcoilwtico',axis=1)\n"
      ],
      "metadata": {
        "execution": {
          "iopub.status.busy": "2022-08-25T22:44:46.923802Z",
          "iopub.execute_input": "2022-08-25T22:44:46.924153Z",
          "iopub.status.idle": "2022-08-25T22:44:46.937632Z",
          "shell.execute_reply.started": "2022-08-25T22:44:46.924127Z",
          "shell.execute_reply": "2022-08-25T22:44:46.936388Z"
        },
        "trusted": true,
        "id": "fJm_DgDrNVDH"
      },
      "execution_count": null,
      "outputs": []
    },
    {
      "cell_type": "code",
      "source": [
        "df_oil['price_chg'] = df_oil.interpolated_price - df_oil.interpolated_price.shift(1)\n",
        "df_oil['pct_chg'] = df_oil['price_chg']/df_oil.interpolated_price.shift(-1)"
      ],
      "metadata": {
        "execution": {
          "iopub.status.busy": "2022-08-25T22:44:46.938979Z",
          "iopub.execute_input": "2022-08-25T22:44:46.939235Z",
          "iopub.status.idle": "2022-08-25T22:44:46.951570Z",
          "shell.execute_reply.started": "2022-08-25T22:44:46.939209Z",
          "shell.execute_reply": "2022-08-25T22:44:46.950722Z"
        },
        "trusted": true,
        "id": "mPtlh90MNVDH"
      },
      "execution_count": null,
      "outputs": []
    },
    {
      "cell_type": "code",
      "source": [
        "fig,ax = plt.subplots(figsize=(15,5))\n",
        "plt.plot(df_oil['interpolated_price'])\n",
        "plt.title('Oil Price over time')\n",
        "\n",
        "plt.show()"
      ],
      "metadata": {
        "execution": {
          "iopub.status.busy": "2022-08-25T22:44:46.953070Z",
          "iopub.execute_input": "2022-08-25T22:44:46.953355Z",
          "iopub.status.idle": "2022-08-25T22:44:47.095701Z",
          "shell.execute_reply.started": "2022-08-25T22:44:46.953331Z",
          "shell.execute_reply": "2022-08-25T22:44:47.094532Z"
        },
        "trusted": true,
        "id": "Gvf5pVqsNVDH"
      },
      "execution_count": null,
      "outputs": []
    },
    {
      "cell_type": "code",
      "source": [
        "# We make sure that the dateitme format is correct on this dataframe\n",
        "df_train['date'] = pd.to_datetime(df_train['date'])\n",
        "# We group it by date and we sum the values of sales for each day.\n",
        "df_dates = df_train.groupby(df_train.date)['sales'].sum().reset_index()"
      ],
      "metadata": {
        "execution": {
          "iopub.status.busy": "2022-08-25T22:44:47.096986Z",
          "iopub.execute_input": "2022-08-25T22:44:47.098470Z",
          "iopub.status.idle": "2022-08-25T22:44:47.213578Z",
          "shell.execute_reply.started": "2022-08-25T22:44:47.098401Z",
          "shell.execute_reply": "2022-08-25T22:44:47.212556Z"
        },
        "trusted": true,
        "id": "2x0og2plNVDH"
      },
      "execution_count": null,
      "outputs": []
    },
    {
      "cell_type": "code",
      "source": [
        "df_dates.plot(kind = 'scatter', x = 'date', y = 'sales')"
      ],
      "metadata": {
        "execution": {
          "iopub.status.busy": "2022-08-25T22:44:47.214813Z",
          "iopub.execute_input": "2022-08-25T22:44:47.215147Z",
          "iopub.status.idle": "2022-08-25T22:44:47.407535Z",
          "shell.execute_reply.started": "2022-08-25T22:44:47.215114Z",
          "shell.execute_reply": "2022-08-25T22:44:47.406687Z"
        },
        "trusted": true,
        "id": "5X9EmKCHNVDI"
      },
      "execution_count": null,
      "outputs": []
    },
    {
      "cell_type": "code",
      "source": [
        "df_dates.sort_values(by=['sales'])"
      ],
      "metadata": {
        "execution": {
          "iopub.status.busy": "2022-08-25T22:44:47.408952Z",
          "iopub.execute_input": "2022-08-25T22:44:47.409489Z",
          "iopub.status.idle": "2022-08-25T22:44:47.422296Z",
          "shell.execute_reply.started": "2022-08-25T22:44:47.409455Z",
          "shell.execute_reply": "2022-08-25T22:44:47.421578Z"
        },
        "trusted": true,
        "id": "Q9V_9J69NVDI"
      },
      "execution_count": null,
      "outputs": []
    },
    {
      "cell_type": "code",
      "source": [
        "daily_total_sales = df_dates.copy()"
      ],
      "metadata": {
        "execution": {
          "iopub.status.busy": "2022-08-25T22:44:47.423544Z",
          "iopub.execute_input": "2022-08-25T22:44:47.424646Z",
          "iopub.status.idle": "2022-08-25T22:44:47.434983Z",
          "shell.execute_reply.started": "2022-08-25T22:44:47.424609Z",
          "shell.execute_reply": "2022-08-25T22:44:47.433729Z"
        },
        "trusted": true,
        "id": "sCWlf2cdNVDI"
      },
      "execution_count": null,
      "outputs": []
    },
    {
      "cell_type": "code",
      "source": [
        "daily_total_sales = daily_total_sales.set_index(pd.to_datetime(daily_total_sales['date']))\n"
      ],
      "metadata": {
        "execution": {
          "iopub.status.busy": "2022-08-25T22:44:47.436276Z",
          "iopub.execute_input": "2022-08-25T22:44:47.436583Z",
          "iopub.status.idle": "2022-08-25T22:44:47.451779Z",
          "shell.execute_reply.started": "2022-08-25T22:44:47.436557Z",
          "shell.execute_reply": "2022-08-25T22:44:47.449138Z"
        },
        "trusted": true,
        "id": "2nN3L1qqNVDI"
      },
      "execution_count": null,
      "outputs": []
    },
    {
      "cell_type": "code",
      "source": [
        "daily_total_sales = daily_total_sales.resample('1D').sum()\n",
        "daily_total_sales"
      ],
      "metadata": {
        "execution": {
          "iopub.status.busy": "2022-08-25T22:44:47.454074Z",
          "iopub.execute_input": "2022-08-25T22:44:47.455279Z",
          "iopub.status.idle": "2022-08-25T22:44:47.475202Z",
          "shell.execute_reply.started": "2022-08-25T22:44:47.455239Z",
          "shell.execute_reply": "2022-08-25T22:44:47.473461Z"
        },
        "trusted": true,
        "id": "yDG6LkNYNVDI"
      },
      "execution_count": null,
      "outputs": []
    },
    {
      "cell_type": "code",
      "source": [
        "df_oil.interpolated_price.loc['2013-01-01':'2017-08-15']\n"
      ],
      "metadata": {
        "execution": {
          "iopub.status.busy": "2022-08-25T22:44:47.482031Z",
          "iopub.execute_input": "2022-08-25T22:44:47.482406Z",
          "iopub.status.idle": "2022-08-25T22:44:47.495109Z",
          "shell.execute_reply.started": "2022-08-25T22:44:47.482379Z",
          "shell.execute_reply": "2022-08-25T22:44:47.493361Z"
        },
        "trusted": true,
        "id": "5hqitxiyNVDJ"
      },
      "execution_count": null,
      "outputs": []
    },
    {
      "cell_type": "code",
      "source": [
        "plt.scatter(daily_total_sales,df_oil.interpolated_price.loc['2013-01-01':'2017-08-15'],alpha=0.2)\n",
        "plt.ylabel('oil price')\n",
        "plt.xlabel('daily total sales')\n",
        "plt.show()"
      ],
      "metadata": {
        "execution": {
          "iopub.status.busy": "2022-08-25T22:44:47.496585Z",
          "iopub.execute_input": "2022-08-25T22:44:47.497732Z",
          "iopub.status.idle": "2022-08-25T22:44:47.663202Z",
          "shell.execute_reply.started": "2022-08-25T22:44:47.497702Z",
          "shell.execute_reply": "2022-08-25T22:44:47.662126Z"
        },
        "trusted": true,
        "id": "q1i0QL68NVDJ"
      },
      "execution_count": null,
      "outputs": []
    },
    {
      "cell_type": "markdown",
      "source": [
        "# Limpieza de datos"
      ],
      "metadata": {
        "id": "1rl-WFtINVDJ"
      }
    },
    {
      "cell_type": "markdown",
      "source": [
        "**Eliminando columnas y datos innecesarios**"
      ],
      "metadata": {
        "id": "M_otWAiJNVDJ"
      }
    },
    {
      "cell_type": "markdown",
      "source": [
        "Eliminar id"
      ],
      "metadata": {
        "id": "2q14MwRXNVDJ"
      }
    },
    {
      "cell_type": "code",
      "source": [
        "df_train_clean = df_train.copy()\n",
        "df_test_clean = df_test.copy()\n",
        "\n",
        "df_train_clean = df_train_clean.drop([\"id\"], axis=1)\n",
        "df_test_clean = df_test_clean.drop([\"id\"], axis=1)"
      ],
      "metadata": {
        "execution": {
          "iopub.status.busy": "2022-08-25T23:01:46.634959Z",
          "iopub.execute_input": "2022-08-25T23:01:46.635310Z",
          "iopub.status.idle": "2022-08-25T23:01:46.750142Z",
          "shell.execute_reply.started": "2022-08-25T23:01:46.635284Z",
          "shell.execute_reply": "2022-08-25T23:01:46.748612Z"
        },
        "trusted": true,
        "id": "UcupivisNVDK"
      },
      "execution_count": null,
      "outputs": []
    },
    {
      "cell_type": "markdown",
      "source": [
        "Se observó que los dias primeros son dias distopicos del año en donde las ventas son minimas"
      ],
      "metadata": {
        "id": "rYDv7KoDNVDK"
      }
    },
    {
      "cell_type": "code",
      "source": [
        "df_fd=df_train_clean.loc[(df_train_clean[\"date\"].dt.day == 1) & (df_train_clean[\"date\"].dt.month == 1)].index\n",
        "df_train_clean=df_train_clean.drop(df_fd)\n",
        "df_fd=df_test_clean.loc[(df_test_clean[\"date\"].dt.day == 1) & (df_test_clean[\"date\"].dt.month == 1)].index\n",
        "df_test_clean=df_test_clean.drop(df_fd)\n"
      ],
      "metadata": {
        "execution": {
          "iopub.status.busy": "2022-08-25T23:01:49.052177Z",
          "iopub.execute_input": "2022-08-25T23:01:49.052528Z",
          "iopub.status.idle": "2022-08-25T23:01:49.491318Z",
          "shell.execute_reply.started": "2022-08-25T23:01:49.052498Z",
          "shell.execute_reply": "2022-08-25T23:01:49.489459Z"
        },
        "trusted": true,
        "id": "2MFfcuvhNVDK"
      },
      "execution_count": null,
      "outputs": []
    },
    {
      "cell_type": "markdown",
      "source": [],
      "metadata": {
        "id": "xCvn1580NVDK"
      }
    },
    {
      "cell_type": "code",
      "source": [
        "df_dates.plot(kind = 'scatter', x = 'date', y = 'sales')"
      ],
      "metadata": {
        "trusted": true,
        "id": "mjoZPER_NVDK"
      },
      "execution_count": null,
      "outputs": []
    },
    {
      "cell_type": "markdown",
      "source": [
        "Considerando que hubo un terremoto de gran magnitud que impacta en las observaciones del dataset, decidimos eliminar este mes. Esto fue porque el terremoto es una anomalía en los datos que no se repite con frecuencia, por lo que termina entorpeciendo el análisis de datos al introducir un comportamiento anómalo en los mismos."
      ],
      "metadata": {
        "id": "RinAixRYNVDL"
      }
    },
    {
      "cell_type": "code",
      "source": [
        "df_fd=df_train_clean.loc[(df_train_clean[\"date\"].dt.month == 4) & (df_train_clean[\"date\"].dt.day >= 16) & (df_train_clean[\"date\"].dt.day <= 31) & (df_train_clean[\"date\"].dt.year == 2016)].index\n",
        "df_train_clean=df_train_clean.drop(df_fd)\n",
        "\n",
        "df_fd=df_train_clean.loc[(df_train_clean[\"date\"].dt.month == 5) & (df_train_clean[\"date\"].dt.day >= 1) & (df_train_clean[\"date\"].dt.day <= 16) & (df_train_clean[\"date\"].dt.year == 2016)].index\n",
        "df_train_clean=df_train_clean.drop(df_fd)\n",
        "\n",
        "df_fd=df_test_clean.loc[(df_test_clean[\"date\"].dt.month == 4) & (df_test_clean[\"date\"].dt.day >= 16) & (df_test_clean[\"date\"].dt.day <= 31) & (df_test_clean[\"date\"].dt.year == 2016)].index\n",
        "df_test_clean=df_test_clean.drop(df_fd)\n",
        "\n",
        "df_fd=df_test_clean.loc[(df_test_clean[\"date\"].dt.month == 5) & (df_test_clean[\"date\"].dt.day >= 1) & (df_test_clean[\"date\"].dt.day <= 16) & (df_test_clean[\"date\"].dt.year == 2016)].index\n",
        "df_test_clean=df_test_clean.drop(df_fd)"
      ],
      "metadata": {
        "execution": {
          "iopub.status.busy": "2022-08-25T23:01:55.778459Z",
          "iopub.execute_input": "2022-08-25T23:01:55.780142Z",
          "iopub.status.idle": "2022-08-25T23:01:57.958081Z",
          "shell.execute_reply.started": "2022-08-25T23:01:55.780084Z",
          "shell.execute_reply": "2022-08-25T23:01:57.956492Z"
        },
        "trusted": true,
        "id": "AU7e-wC_NVDL"
      },
      "execution_count": null,
      "outputs": []
    },
    {
      "cell_type": "code",
      "source": [
        "df_dates = df_train_clean.groupby(df_train_clean.date)['sales'].sum().reset_index()"
      ],
      "metadata": {
        "execution": {
          "iopub.status.busy": "2022-08-25T23:03:22.165500Z",
          "iopub.execute_input": "2022-08-25T23:03:22.165892Z",
          "iopub.status.idle": "2022-08-25T23:03:22.219693Z",
          "shell.execute_reply.started": "2022-08-25T23:03:22.165865Z",
          "shell.execute_reply": "2022-08-25T23:03:22.218148Z"
        },
        "trusted": true,
        "id": "ZShttfjGNVDL"
      },
      "execution_count": null,
      "outputs": []
    },
    {
      "cell_type": "code",
      "source": [
        "df_dates.plot(kind = 'scatter', x = 'date', y = 'sales')"
      ],
      "metadata": {
        "execution": {
          "iopub.status.busy": "2022-08-25T23:03:24.034995Z",
          "iopub.execute_input": "2022-08-25T23:03:24.035625Z",
          "iopub.status.idle": "2022-08-25T23:03:24.239700Z",
          "shell.execute_reply.started": "2022-08-25T23:03:24.035586Z",
          "shell.execute_reply": "2022-08-25T23:03:24.238007Z"
        },
        "trusted": true,
        "id": "IanxZHJENVDL"
      },
      "execution_count": null,
      "outputs": []
    },
    {
      "cell_type": "markdown",
      "source": [
        "Los datos ya se encuentran limpios y libres de anomalias"
      ],
      "metadata": {
        "id": "r9lPuFJONVDL"
      }
    }
  ]
}
